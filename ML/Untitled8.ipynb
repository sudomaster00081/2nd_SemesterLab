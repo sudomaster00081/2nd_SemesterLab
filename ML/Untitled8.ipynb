{
  "nbformat": 4,
  "nbformat_minor": 0,
  "metadata": {
    "colab": {
      "provenance": [],
      "toc_visible": true
    },
    "kernelspec": {
      "name": "python3",
      "display_name": "Python 3"
    },
    "language_info": {
      "name": "python"
    }
  },
  "cells": [
    {
      "cell_type": "code",
      "execution_count": 3,
      "metadata": {
        "id": "HNOJ024aO-A4",
        "colab": {
          "base_uri": "https://localhost:8080/"
        },
        "outputId": "a1ae955f-3824-46e1-d2ba-e5eae65db725"
      },
      "outputs": [
        {
          "output_type": "stream",
          "name": "stdout",
          "text": [
            "         AT      V       AP     RH      PE\n",
            "0     14.96  41.76  1024.07  73.17  463.26\n",
            "1     25.18  62.96  1020.04  59.08  444.37\n",
            "2      5.11  39.40  1012.16  92.14  488.56\n",
            "3     20.86  57.32  1010.24  76.64  446.48\n",
            "4     10.82  37.50  1009.23  96.62  473.90\n",
            "...     ...    ...      ...    ...     ...\n",
            "9563  16.65  49.69  1014.01  91.00  460.03\n",
            "9564  13.19  39.18  1023.67  66.78  469.62\n",
            "9565  31.32  74.33  1012.92  36.48  429.57\n",
            "9566  24.48  69.45  1013.86  62.39  435.74\n",
            "9567  21.60  62.52  1017.23  67.87  453.28\n",
            "\n",
            "[9568 rows x 5 columns]\n",
            "Mean Squared Error = 21.239856938225508 \n",
            "Rsquared = 0.9275484963869204\n"
          ]
        }
      ],
      "source": [
        "import pandas as pd\n",
        "from sklearn.model_selection import train_test_split\n",
        "from sklearn.linear_model import LinearRegression\n",
        "from sklearn.metrics import mean_squared_error, r2_score\n",
        "dataset = pd.read_excel(\"/content/ML/Data/Power Plant.xlsx\")\n",
        "print(dataset)\n",
        "X = dataset[['AT', 'V', 'AP', 'RH']]\n",
        "Y = dataset[['PE']]\n",
        "x_train, x_test, y_train, y_test = train_test_split (X, Y, test_size = 0.3 , random_state = 42)\n",
        "model = LinearRegression()\n",
        "model.fit(x_train, y_train)\n",
        "y_pred = model.predict(x_test)\n",
        "mse = mean_squared_error(y_test, y_pred)\n",
        "r2 = r2_score(y_test, y_pred)\n",
        "print (f\"Mean Squared Error = {mse} \\nRsquared = {r2}\")\n"
      ]
    },
    {
      "cell_type": "code",
      "source": [
        "from sklearn.cluster import KMeans\n",
        "dataset = [\n",
        "    [1.713, 1.586, 0],\n",
        "    [0.180, 1.786, 1],\n",
        "    [0.353, 1.240, 1],\n",
        "    [0.940, 1.566, 0],\n",
        "    [1.486, 0.759, 1],\n",
        "    [1.266, 1.106, 0],\n",
        "    [1.540, 0.419, 1],\n",
        "    [0.459, 1.799, 1],\n",
        "    [0.773,0.186, 1 ]\n",
        "]\n",
        "new_data = [0.906, 0.606]\n",
        "X = [[point[0], point[1]] for point in dataset if None not in point]\n",
        "y = [[point[2]] for point in dataset if None not in point]\n",
        "k = 3\n",
        "kmeans = KMeans(n_clusters = k, random_state = 42)\n",
        "kmeans.fit(X)\n",
        "new_case_cluster = kmeans.predict([new_data])\n",
        "cluster_points = [point[2] for point, cluster in zip(dataset, kmeans.labels_) if cluster == new_case_cluster]\n",
        "predicted_class = max(set(cluster_points), key = cluster_points.count)\n",
        "print(\"class assigned =\" ,predicted_class)"
      ],
      "metadata": {
        "colab": {
          "base_uri": "https://localhost:8080/"
        },
        "id": "hXj1Ds1547m-",
        "outputId": "f1b52ad4-1212-44e9-c7bb-0bd53af9f285"
      },
      "execution_count": 4,
      "outputs": [
        {
          "output_type": "stream",
          "name": "stderr",
          "text": [
            "/usr/local/lib/python3.10/dist-packages/sklearn/cluster/_kmeans.py:870: FutureWarning: The default value of `n_init` will change from 10 to 'auto' in 1.4. Set the value of `n_init` explicitly to suppress the warning\n",
            "  warnings.warn(\n"
          ]
        },
        {
          "output_type": "stream",
          "name": "stdout",
          "text": [
            "class assigned = 1\n"
          ]
        }
      ]
    },
    {
      "cell_type": "code",
      "source": [
        "from sklearn.datasets import fetch_openml\n",
        "from sklearn.model_selection import train_test_split\n",
        "from sklearn.decomposition import PCA\n",
        "from sklearn.cluster import KMeans\n",
        "from sklearn.metrics import accuracy_score\n",
        "# Load the MNIST dataset\n",
        "mnist = fetch_openml('mnist_784')\n",
        "X = mnist.data\n",
        "y = mnist.target\n",
        "# Split the dataset into training and test sets\n",
        "X_train, X_test, y_train, y_test = train_test_split(X, y, test_size=0.2, random_state=42)\n",
        "# Perform PCA for dimensionality reduction\n",
        "pca = PCA(n_components=500)\n",
        "X_train_pca = pca.fit_transform(X_train)\n",
        "X_test_pca = pca.transform(X_test)\n",
        "# Apply the K-means algorithm\n",
        "kmeans = KMeans(n_clusters=20, random_state=42)\n",
        "kmeans.fit(X_train_pca)\n",
        "# Assign cluster labels\n",
        "y_train_pred = kmeans.labels_\n",
        "# Map cluster labels to class labels\n",
        "label_mapping = {}\n",
        "for cluster_label in range(20):\n",
        "    mask = (y_train_pred == cluster_label)\n",
        "    mapped_label = y_train[mask].mode()[0]\n",
        "    label_mapping[cluster_label] = mapped_label\n",
        "y_train_pred_mapped = [label_mapping[cluster_label] for cluster_label in y_train_pred]\n",
        "# Calculate classification accuracy\n",
        "accuracy = accuracy_score(y_train, y_train_pred_mapped)\n",
        "print(\"Training Accuracy:\", accuracy)"
      ],
      "metadata": {
        "colab": {
          "base_uri": "https://localhost:8080/"
        },
        "id": "e3U7NyTX4-eV",
        "outputId": "54acf4d8-2f33-4dca-f058-58a71999464d"
      },
      "execution_count": 5,
      "outputs": [
        {
          "output_type": "stream",
          "name": "stderr",
          "text": [
            "/usr/local/lib/python3.10/dist-packages/sklearn/datasets/_openml.py:968: FutureWarning: The default value of `parser` will change from `'liac-arff'` to `'auto'` in 1.4. You can set `parser='auto'` to silence this warning. Therefore, an `ImportError` will be raised from 1.4 if the dataset is dense and pandas is not installed. Note that the pandas parser may return different data types. See the Notes Section in fetch_openml's API doc for details.\n",
            "  warn(\n",
            "/usr/local/lib/python3.10/dist-packages/sklearn/cluster/_kmeans.py:870: FutureWarning: The default value of `n_init` will change from 10 to 'auto' in 1.4. Set the value of `n_init` explicitly to suppress the warning\n",
            "  warnings.warn(\n"
          ]
        },
        {
          "output_type": "stream",
          "name": "stdout",
          "text": [
            "Training Accuracy: 0.71275\n"
          ]
        }
      ]
    },
    {
      "cell_type": "code",
      "source": [
        "import pandas as pd\n",
        "from sklearn.model_selection import train_test_split\n",
        "from sklearn.linear_model import LogisticRegression\n",
        "from sklearn.metrics import accuracy_score, confusion_matrix\n",
        "data = pd.read_csv(\"/content/ML/Data/Breast Cancer.csv\")\n",
        "print (data)\n",
        "X = data.drop(['Sample code number', 'Class'], axis = 1)\n",
        "Y = data['Class']\n",
        "model = LogisticRegression()\n",
        "x_train,x_test, y_train,  y_test = train_test_split(X, Y, test_size= 0.2, random_state= 42)\n",
        "model.fit(x_train,y_train)\n",
        "y_pred = model.predict(x_test)\n",
        "confusion = confusion_matrix(y_test, y_pred)\n",
        "accuracy = accuracy_score(y_test, y_pred)\n",
        "print(f\"confusion = \\n {confusion} \\n accuracy = {accuracy}\")"
      ],
      "metadata": {
        "colab": {
          "base_uri": "https://localhost:8080/"
        },
        "id": "IiIoTl415H6V",
        "outputId": "3f5906a9-ca7b-4300-a001-d0a5ee5b8e80"
      },
      "execution_count": 7,
      "outputs": [
        {
          "output_type": "stream",
          "name": "stdout",
          "text": [
            "     Sample code number  Clump Thickness  Uniformity of Cell Size  \\\n",
            "0               1000025                5                        1   \n",
            "1               1002945                5                        4   \n",
            "2               1015425                3                        1   \n",
            "3               1016277                6                        8   \n",
            "4               1017023                4                        1   \n",
            "..                  ...              ...                      ...   \n",
            "678              776715                3                        1   \n",
            "679              841769                2                        1   \n",
            "680              888820                5                       10   \n",
            "681              897471                4                        8   \n",
            "682              897471                4                        8   \n",
            "\n",
            "     Uniformity of Cell Shape  Marginal Adhesion  Single Epithelial Cell Size  \\\n",
            "0                           1                  1                            2   \n",
            "1                           4                  5                            7   \n",
            "2                           1                  1                            2   \n",
            "3                           8                  1                            3   \n",
            "4                           1                  3                            2   \n",
            "..                        ...                ...                          ...   \n",
            "678                         1                  1                            3   \n",
            "679                         1                  1                            2   \n",
            "680                        10                  3                            7   \n",
            "681                         6                  4                            3   \n",
            "682                         8                  5                            4   \n",
            "\n",
            "     Bare Nuclei  Bland Chromatin  Normal Nucleoli  Mitoses  Class  \n",
            "0              1                3                1        1      2  \n",
            "1             10                3                2        1      2  \n",
            "2              2                3                1        1      2  \n",
            "3              4                3                7        1      2  \n",
            "4              1                3                1        1      2  \n",
            "..           ...              ...              ...      ...    ...  \n",
            "678            2                1                1        1      2  \n",
            "679            1                1                1        1      2  \n",
            "680            3                8               10        2      4  \n",
            "681            4               10                6        1      4  \n",
            "682            5               10                4        1      4  \n",
            "\n",
            "[683 rows x 11 columns]\n",
            "confusion = \n",
            " [[78  1]\n",
            " [ 5 53]] \n",
            " accuracy = 0.9562043795620438\n"
          ]
        }
      ]
    },
    {
      "cell_type": "code",
      "source": [
        "import pandas as pd\n",
        "from sklearn.metrics import precision_score, recall_score, accuracy_score\n",
        "from sklearn.naive_bayes import GaussianNB\n",
        "from sklearn.model_selection import train_test_split\n",
        "data = pd.read_csv('/content/ML/Data/Titanic_dataset.csv')\n",
        "data = data[['Pclass', 'Sex', 'Age', 'SibSp', 'Parch', 'Survived']]\n",
        "data['Sex'] = data['Sex'].map({'female': 0 , 'male' : 1})\n",
        "data = data.dropna()\n",
        "X = data.drop('Survived', axis = 1)\n",
        "Y = data['Survived']\n",
        "x_train, x_test, y_train, y_test = train_test_split(X,Y, test_size=0.2, random_state= 42)\n",
        "model = GaussianNB()\n",
        "model.fit(x_train, y_train)\n",
        "y_pred = model.predict(x_test)\n",
        "accuracy_scor =  accuracy_score(y_test, y_pred)\n",
        "recall_scor = recall_score (y_test, y_pred)\n",
        "precision_scor = precision_score(y_test, y_pred)\n",
        "print(f\"accuracy = {accuracy_scor}, recall = {recall_scor}, precision = {precision_scor}\")"
      ],
      "metadata": {
        "colab": {
          "base_uri": "https://localhost:8080/"
        },
        "id": "T8gx8cJp5OLt",
        "outputId": "41a471d6-9b92-41a3-babd-c6e099636d9a"
      },
      "execution_count": 8,
      "outputs": [
        {
          "output_type": "stream",
          "name": "stdout",
          "text": [
            "accuracy = 0.7622377622377622, recall = 0.6428571428571429, precision = 0.72\n"
          ]
        }
      ]
    },
    {
      "cell_type": "code",
      "source": [
        "from sklearn.model_selection import train_test_split\n",
        "import pandas as pd\n",
        "from sklearn.svm import SVC\n",
        "from sklearn.naive_bayes import GaussianNB\n",
        "from sklearn.metrics import f1_score, r2_score, precision_score\n",
        "data = pd.read_csv('/content/ML/Data/Dataset.csv')\n",
        "X = data.iloc[:, 2:]\n",
        "Y = data.iloc[:,1]\n",
        "Y = Y.map({'B' : 0, 'M' : 1})\n",
        "x_train, x_test, y_train, y_test = train_test_split(X, Y, train_size= 0.2, random_state= 42)\n",
        "svmmodel = SVC()\n",
        "naivemodel = GaussianNB()\n",
        "svmmodel.fit(x_train, y_train)\n",
        "naivemodel.fit(x_train, y_train)\n",
        "sv_pred = svmmodel.predict(x_test)\n",
        "nm_pred = naivemodel.predict(x_test)\n",
        "svmf1 = f1_score(y_test, sv_pred)\n",
        "svmr2 = r2_score(y_test, sv_pred)\n",
        "svmpre =precision_score(y_test, sv_pred)\n",
        "nmf1 =f1_score(y_test, nm_pred)\n",
        "nmr2 =r2_score(y_test, nm_pred)\n",
        "nmpre =precision_score(y_test, nm_pred)\n",
        "\n",
        "print(f\"nmpre{nmpre},{nmf1},{nmr2}\\nsvm,{svmpre},{svmf1},{svmr2}\")\n",
        "\n"
      ],
      "metadata": {
        "colab": {
          "base_uri": "https://localhost:8080/"
        },
        "id": "l_1xExHU5Rq7",
        "outputId": "36701d9d-47b7-4468-df45-4a00d83bad21"
      },
      "execution_count": 9,
      "outputs": [
        {
          "output_type": "stream",
          "name": "stdout",
          "text": [
            "nmpre0.9151515151515152,0.9123867069486404,0.7249551840580314\n",
            "svm,0.9632352941176471,0.8675496688741722,0.6206278400800432\n"
          ]
        }
      ]
    },
    {
      "cell_type": "code",
      "source": [
        "import pandas as pd\n",
        "from sklearn.model_selection import train_test_split\n",
        "from sklearn.svm import SVC\n",
        "from sklearn.ensemble import VotingClassifier\n",
        "from sklearn.metrics import accuracy_score\n",
        "data = pd.read_csv('/content/ML/Data/iris.csv', header=None)\n",
        "X = data.iloc[:, :-1]\n",
        "y = data.iloc[:, -1]\n",
        "x_train, x_test, y_train, y_test = train_test_split(X, y,test_size=0.2 , random_state=42)\n",
        "svmmodel1 = SVC(kernel = 'linear')\n",
        "svmmodel2 = SVC(kernel = 'rbf')\n",
        "svmmodel3 = SVC(kernel= 'poly')\n",
        "voting_model =VotingClassifier(estimators=[('svm1', svmmodel1), ('svm2', svmmodel2), ('svm3', svmmodel3)], voting='hard')\n",
        "voting_model.fit(x_train, y_train)\n",
        "y_pred = voting_model.predict(x_test)\n",
        "accuracy_scor = accuracy_score(y_test, y_pred)\n",
        "print (f\"accuracy of the voting model = {accuracy_scor}\")\n"
      ],
      "metadata": {
        "colab": {
          "base_uri": "https://localhost:8080/"
        },
        "id": "C5tgYGrv5Sfs",
        "outputId": "a00a7996-ac55-45ac-b436-6ae84963688e"
      },
      "execution_count": 10,
      "outputs": [
        {
          "output_type": "stream",
          "name": "stdout",
          "text": [
            "accuracy of the voting model = 1.0\n"
          ]
        }
      ]
    },
    {
      "cell_type": "code",
      "source": [
        "import pandas as pd\n",
        "from sklearn.decomposition import PCA\n",
        "from sklearn.metrics import precision_score\n",
        "from sklearn.svm import SVC\n",
        "from sklearn.model_selection import train_test_split\n",
        "dataset = pd.read_csv(r\"/content/ML/Data/1000_features.csv\")\n",
        "X = dataset.drop(dataset.columns[0], axis=1)\n",
        "y = dataset[dataset.columns[0]]\n",
        "dimensions = [300, 400 , 500]\n",
        "result = []\n",
        "for dim in dimensions:\n",
        "    pca = PCA(n_components=dim)\n",
        "    x_pca = pca.fit_transform(X)\n",
        "    model=SVC()\n",
        "    x_train, x_test, y_train, y_test = train_test_split(x_pca, y, test_size=0.2, random_state=42)\n",
        "    model.fit(x_train, y_train)\n",
        "    y_pred = model.predict(x_test)\n",
        "    precision = precision_score(y_test, y_pred , average= 'macro')\n",
        "    result.append(f\"dimension = {dim}, precision score = {precision}\")\n",
        "print(result)"
      ],
      "metadata": {
        "colab": {
          "base_uri": "https://localhost:8080/"
        },
        "id": "GS8JV6fX5Wnj",
        "outputId": "16ba04f7-8d3f-4481-cf38-493dd41e6665"
      },
      "execution_count": 13,
      "outputs": [
        {
          "output_type": "stream",
          "name": "stderr",
          "text": [
            "/usr/local/lib/python3.10/dist-packages/sklearn/metrics/_classification.py:1344: UndefinedMetricWarning: Precision is ill-defined and being set to 0.0 in labels with no predicted samples. Use `zero_division` parameter to control this behavior.\n",
            "  _warn_prf(average, modifier, msg_start, len(result))\n",
            "/usr/local/lib/python3.10/dist-packages/sklearn/metrics/_classification.py:1344: UndefinedMetricWarning: Precision is ill-defined and being set to 0.0 in labels with no predicted samples. Use `zero_division` parameter to control this behavior.\n",
            "  _warn_prf(average, modifier, msg_start, len(result))\n"
          ]
        },
        {
          "output_type": "stream",
          "name": "stdout",
          "text": [
            "['dimension = 300, precision score = 0.000591902493695713', 'dimension = 400, precision score = 0.0005394713181082538', 'dimension = 500, precision score = 0.0006730979136563511']\n"
          ]
        },
        {
          "output_type": "stream",
          "name": "stderr",
          "text": [
            "/usr/local/lib/python3.10/dist-packages/sklearn/metrics/_classification.py:1344: UndefinedMetricWarning: Precision is ill-defined and being set to 0.0 in labels with no predicted samples. Use `zero_division` parameter to control this behavior.\n",
            "  _warn_prf(average, modifier, msg_start, len(result))\n"
          ]
        }
      ]
    },
    {
      "cell_type": "markdown",
      "source": [
        "# New Section"
      ],
      "metadata": {
        "id": "dmXQnKPX6oql"
      }
    },
    {
      "cell_type": "code",
      "source": [
        "import pandas as pd\n",
        "from sklearn.model_selection import train_test_split, cross_val_score\n",
        "from sklearn.svm import SVC\n",
        "from sklearn.datasets import load_wine\n",
        "from sklearn.metrics import f1_score\n",
        "def crossvalsvm(X,y):\n",
        "    svm = SVC(kernel= 'linear')\n",
        "    f1s = cross_val_score(svm, X, y, cv= 10, scoring='f1_weighted')\n",
        "    result = f1s.mean()\n",
        "    return result\n",
        "def svmvary(X,y,vary):\n",
        "    xtest, xtrain, ytest, ytrain = train_test_split(X, y, test_size=vary , random_state=42)\n",
        "    model = SVC(kernel='linear')\n",
        "    model.fit(xtrain, ytrain)\n",
        "    ypred = model.predict(xtest)\n",
        "    f1 = f1_score(ytest, ypred, average='micro')\n",
        "    return f1\n",
        "dataset = load_wine()\n",
        "X, y = dataset.data, dataset.target\n",
        "vary = [0.2,0.3,0.4]\n",
        "result =[]\n",
        "for test in vary:\n",
        "    result.append(svmvary(X,y,test))\n",
        "cross=crossvalsvm(X,y)\n",
        "print('Result :')\n",
        "for re in result :\n",
        "    print(re)\n",
        "print (\"cross\", cross)\n"
      ],
      "metadata": {
        "colab": {
          "base_uri": "https://localhost:8080/"
        },
        "id": "ZTf79fB_5ZSj",
        "outputId": "cabbc3ef-4f81-4e04-e76c-9dd17c7d0da5"
      },
      "execution_count": 12,
      "outputs": [
        {
          "output_type": "stream",
          "name": "stdout",
          "text": [
            "Result :\n",
            "0.8450704225352113\n",
            "0.8790322580645161\n",
            "0.9433962264150944\n",
            "cross 0.9547391959891961\n"
          ]
        }
      ]
    }
  ]
}